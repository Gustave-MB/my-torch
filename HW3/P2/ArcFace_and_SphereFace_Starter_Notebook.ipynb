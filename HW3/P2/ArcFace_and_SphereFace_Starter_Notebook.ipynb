{
  "nbformat": 4,
  "nbformat_minor": 0,
  "metadata": {
    "colab": {
      "provenance": [],
      "include_colab_link": true
    },
    "kernelspec": {
      "name": "python3",
      "display_name": "Python 3"
    },
    "language_info": {
      "name": "python"
    }
  },
  "cells": [
    {
      "cell_type": "markdown",
      "metadata": {
        "id": "view-in-github",
        "colab_type": "text"
      },
      "source": [
        "<a href=\"https://colab.research.google.com/github/Gustave-MB/my-torch/blob/main/HW3/P2/ArcFace_and_SphereFace_Starter_Notebook.ipynb\" target=\"_parent\"><img src=\"https://colab.research.google.com/assets/colab-badge.svg\" alt=\"Open In Colab\"/></a>"
      ]
    },
    {
      "cell_type": "code",
      "execution_count": null,
      "metadata": {
        "id": "Y519Dc7b3HMi"
      },
      "outputs": [],
      "source": [
        "import torch\n",
        "from torchsummary import summary\n",
        "import torchvision #This library is used for image-based operations (Augmentations)\n",
        "\n",
        "import os\n",
        "import gc\n",
        "from tqdm import tqdm\n",
        "import math\n",
        "from PIL import Image\n",
        "import numpy as np\n",
        "import pandas as pd\n",
        "from sklearn.metrics import accuracy_score\n",
        "import glob\n",
        "\n",
        "DEVICE = 'cuda' if torch.cuda.is_available() else 'cpu'\n",
        "print(\"Device: \", DEVICE)"
      ]
    },
    {
      "cell_type": "markdown",
      "source": [
        "# ArcFace Loss\n",
        "\n",
        "[ArcFace: Additive Angular Margin Loss for Deep\n",
        "Face Recognition](https://arxiv.org/pdf/1801.07698.pdf) [equation 3]\n",
        "\n",
        "ArcFace Loss is trying to maximize the geodesic distance on the hypersphere between features of different classes to make the features more separately. Here is a blog that explains ArcFace Loss in detail: [link](https://medium.com/analytics-vidhya/face-recognition-and-arcface-additive-angular-margin-loss-for-deep-face-recognition-44abc56916c#:~:text=The%20ArcFace%20loss%20maximizes%20the,implemented%20with%20negligible%20computational%20overhead)\n",
        "\n",
        "$$L_{afl} = - log \\frac{e^{scos(\\theta_{y_i} + m)}}{e^{s cos(\\theta_{y_i} + m)} + \\sum_{j=1,j \\neq y_i}^N e^{s cos(\\theta_j)}}$$\n",
        "\n",
        "Play around with the `margin` and `scaler` hyperparameters as they are instrumental to the performance of this loss in fine tuning your model.\n",
        "\n"
      ],
      "metadata": {
        "id": "xR8bGXJ0sM20"
      }
    },
    {
      "cell_type": "code",
      "source": [
        "class ArcFaceModel(torch.nn.Module):\n",
        "    '''\n",
        "    To train in a standard training loop make sure to modify the train function so you pass in the inputs and the labels\n",
        "    i.e. output = model(images, labels)\n",
        "    '''\n",
        "    def __init__(self, model, margin=0.5, scaler=64, embedding_size=NotImplemented, num_classes=NotImplemented):\n",
        "        super(ArcFaceModel, self).__init__()\n",
        "        self.embedding_size = embedding_size\n",
        "        self.num_classes = num_classes\n",
        "\n",
        "        # small number to avoid invalid arcCos values\n",
        "        self.eps = 1e-7\n",
        "\n",
        "        # hyperparameters\n",
        "        self.margin = margin\n",
        "        self.scaler = scaler\n",
        "\n",
        "        # load classification model\n",
        "        self.model = model\n",
        "\n",
        "        # Initializing the arcface linear layer with the weights of the classifier from the trained CNN\n",
        "        self.AFL_linear = torch.nn.Linear(embedding_size, num_classes, bias=False) # Why set bias=False? Check out the paper.\n",
        "        with torch.no_grad():\n",
        "          self.AFL_linear.weight.copy_(self.model.cls_layer.weight)\n",
        "\n",
        "        # Initializing utility functions for normalization, arcCos, cos and onehot encoding\n",
        "        self.normalizer = torch.nn.functional.normalize\n",
        "        self.arcCos = torch.acos\n",
        "        self.cos = torch.cos\n",
        "        self.one_hot = torch.nn.functional.one_hot\n",
        "\n",
        "\n",
        "    def forward(self, x, labels):\n",
        "        # Get face embedding. Note that we pass return_feats=True to get the image's features and not the final logits.\n",
        "        embedding = self.model(x, return_feats=True)\n",
        "\n",
        "        # TODO: normalize face embedding\n",
        "        embedding = NotImplemented\n",
        "\n",
        "        # TODO: normalize linear layer weights.\n",
        "        # NOTE: The normalized weights need to be wrapped in torch.nn.Parameter before assigning to AFL_linear.\n",
        "        with torch.no_grad():\n",
        "          self.AFL_linear.weight = torch.nn.Parameter(NotImplemented)\n",
        "\n",
        "        # TODO: take dot product to get cos theta, remember that Wx = ||W||||x||cos(\\theta) and ||W|| = 1, ||x|| = 1\n",
        "        cosine = NotImplemented\n",
        "\n",
        "        # We clamp the values to be a little higher than -1 and a little lower than one so we don't get nan values when we call arccos\n",
        "        cosine = torch.clamp(cosine, min=-1.0+self.eps, max=1.0-self.eps)\n",
        "\n",
        "        # TODO: get theta by performing arccos(cos(theta))\n",
        "        theta = NotImplemented\n",
        "\n",
        "        # TODO: convert labels to one-hot\n",
        "        one_hot_labels = NotImplemented\n",
        "        # TODO: create a mask with m at positions with label 1 and 0 at positions with label 0\n",
        "        margin_mask = NotImplemented\n",
        "        # TODO: add margin m to theta\n",
        "        theta_m = NotImplemented\n",
        "\n",
        "        # calculate the cosine value for theta with margin added and scale with self.scaler\n",
        "        logits = NotImplemented # this value is then passed to crossEntropyLoss in train loop to calculate arcface loss\n",
        "\n",
        "        return logits"
      ],
      "metadata": {
        "id": "tv2R3qe9Gmwq"
      },
      "execution_count": null,
      "outputs": []
    },
    {
      "cell_type": "markdown",
      "source": [
        "# SphereFace Loss\n",
        "[SphereFace: Deep Hypersphere Embedding for Face Recognition](https://arxiv.org/pdf/1704.08063.pdf)\n",
        "\n",
        "[SphereFace Revived:\n",
        "Unifying Hyperspherical Face Recognition](https://arxiv.org/pdf/2109.05565.pdf)\n",
        "\n",
        "$$L_{sfl} = - log \\frac{e^{scos(m\\theta_{y_i})}}{e^{s cos(m\\theta_{y_i})} + \\sum_{j=1,j \\neq y_i}^N e^{s cos(\\theta_j)}}$$\n",
        "\n",
        "Notice that the only difference between arcface loss and sphere loss is from $e^{scos(\\theta_{y_i} + m)}$ to $e^{scos(m\\theta_{y_i})}$. You should be able to implement this based on the comments in ArcFace loss and update `margin_mask` variable accordingly.\n",
        "\n",
        "Play around with the `margin` and `scaler` hyperparameters as they are instrumental to the performance of this loss in fine tuning your model.\n",
        "\n",
        "Please note that this is a basic version of SphereFace loss. As you can read in the above listed papers, there are several modifications you can make to it.\n"
      ],
      "metadata": {
        "id": "JgYWY_b3reVr"
      }
    },
    {
      "cell_type": "code",
      "source": [
        "class SphereFaceModel(torch.nn.Module):\n",
        "    '''\n",
        "    To train in a standard training loop make sure to modify the train function so you pass in the inputs and the labels\n",
        "    i.e. output = model(images, labels)\n",
        "    '''\n",
        "    def __init__(self, model, margin=0.5, scaler=64, embedding_size=NotImplemented, num_classes=NotImplemented):\n",
        "        super(SphereFaceModel, self).__init__()\n",
        "        self.embedding_size = embedding_size\n",
        "        self.num_classes = num_classes\n",
        "\n",
        "        # small number to avoid invalid arcCos values\n",
        "        self.eps = 1e-7\n",
        "\n",
        "        # hyperparameters\n",
        "        self.margin = margin\n",
        "        self.scaler = scaler\n",
        "\n",
        "        # load classification model\n",
        "        self.model = model\n",
        "\n",
        "        # Initializing the arcface linear layer with the weights of the classifier from the trained CNN\n",
        "        self.AFL_linear = torch.nn.Linear(embedding_size, num_classes, bias=False) # Why set bias=False? Check out the paper.\n",
        "        with torch.no_grad():\n",
        "          self.AFL_linear.weight.copy_(self.model.cls_layer.weight)\n",
        "\n",
        "        # Initializing utility functions for normalization, arcCos, cos and onehot encoding\n",
        "        self.normalizer = torch.nn.functional.normalize\n",
        "        self.arcCos = torch.acos\n",
        "        self.cos = torch.cos\n",
        "        self.one_hot = torch.nn.functional.one_hot\n",
        "\n",
        "\n",
        "    def forward(self, x, labels):\n",
        "        # Get face embedding. Note that we pass return_feats=True to get the image's features and not the final logits.\n",
        "        embedding = self.model(x, return_feats=True)\n",
        "\n",
        "        # TODO: normalize face embedding\n",
        "        embedding = NotImplemented\n",
        "\n",
        "        # TODO: normalize linear layer weights.\n",
        "        # NOTE: The normalized weights need to be wrapped in torch.nn.Parameter before assigning to AFL_linear.\n",
        "        with torch.no_grad():\n",
        "          self.AFL_linear.weight = torch.nn.Parameter(NotImplemented)\n",
        "\n",
        "        # TODO: take dot product to get cos theta, remember that Wx = ||W||||x||cos(\\theta) and ||W|| = 1, ||x|| = 1\n",
        "        cosine = NotImplemented\n",
        "\n",
        "        # We clamp the values to be a little higher than -1 and a little lower than one so we don't get nan values when we call arccos\n",
        "        cosine = torch.clamp(cosine, min=-1.0+self.eps, max=1.0-self.eps)\n",
        "\n",
        "        # TODO: get theta by performing arccos(cos(theta))\n",
        "        theta = NotImplemented\n",
        "\n",
        "        # TODO: convert labels to one-hot\n",
        "        one_hot_labels = NotImplemented\n",
        "        # TODO: create a mask with m at positions with label 1 and 0 at positions with label 0\n",
        "        margin_mask = NotImplemented\n",
        "        # TODO: multiply margin m to theta\n",
        "        theta_m = NotImplemented\n",
        "\n",
        "        # calculate the cosine value for theta with margin multiplied and scale with self.scaler\n",
        "        logits = NotImplemented # this value is then passed to crossEntropyLoss in train loop to calculate sphereface loss\n",
        "\n",
        "        return logits\n"
      ],
      "metadata": {
        "id": "4sHI80FZRGVP"
      },
      "execution_count": null,
      "outputs": []
    }
  ]
}